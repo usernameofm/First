{
 "cells": [
  {
   "cell_type": "code",
   "execution_count": 710,
   "metadata": {},
   "outputs": [
    {
     "name": "stdout",
     "output_type": "stream",
     "text": [
      "[6 2 3 4 5 7 8 9]\n"
     ]
    }
   ],
   "source": [
    "import numpy as np\n",
    "import matplotlib.pyplot as plt\n",
    "# 一维数组\n",
    "a = np.array([6,2,3,4,5,7,8,9])\n",
    "a1 = np.array([9875,75,76543,5,0,4])\n",
    "print(a)"
   ]
  },
  {
   "cell_type": "code",
   "execution_count": 711,
   "metadata": {},
   "outputs": [
    {
     "name": "stdout",
     "output_type": "stream",
     "text": [
      "[[1 2 3]\n",
      " [3 4 5]]\n"
     ]
    }
   ],
   "source": [
    "# 二维数组\n",
    "b = np.array([[1, 2, 3], [3, 4, 5]])\n",
    "print(b)"
   ]
  },
  {
   "cell_type": "code",
   "execution_count": 712,
   "metadata": {},
   "outputs": [
    {
     "name": "stdout",
     "output_type": "stream",
     "text": [
      "2\n"
     ]
    }
   ],
   "source": [
    "#获取数组维度\n",
    "D = np.ndim(b)\n",
    "print(D)"
   ]
  },
  {
   "cell_type": "code",
   "execution_count": 713,
   "metadata": {},
   "outputs": [
    {
     "name": "stdout",
     "output_type": "stream",
     "text": [
      "(array([0], dtype=int64), array([0], dtype=int64))\n"
     ]
    }
   ],
   "source": [
    "# 访问指定元素\n",
    "Check = np.where(b == 1)\n",
    "print(Check)"
   ]
  },
  {
   "cell_type": "code",
   "execution_count": 714,
   "metadata": {},
   "outputs": [
    {
     "name": "stdout",
     "output_type": "stream",
     "text": [
      "[6 2 3 4 5 7 8 9]\n"
     ]
    }
   ],
   "source": [
    "# 修改特定元素\n",
    "a[0] = 6\n",
    "print(a)"
   ]
  },
  {
   "cell_type": "code",
   "execution_count": 715,
   "metadata": {},
   "outputs": [
    {
     "name": "stdout",
     "output_type": "stream",
     "text": [
      "[6 2 3 4 5 7]\n"
     ]
    }
   ],
   "source": [
    "# 切片获取子集\n",
    "print(a[0:6])"
   ]
  },
  {
   "cell_type": "code",
   "execution_count": 716,
   "metadata": {},
   "outputs": [
    {
     "name": "stdout",
     "output_type": "stream",
     "text": [
      "[6 2 3 4 5 7 8 9]\n"
     ]
    }
   ],
   "source": [
    "# 复制数组\n",
    "c = a\n",
    "print(c)"
   ]
  },
  {
   "cell_type": "code",
   "execution_count": 717,
   "metadata": {},
   "outputs": [
    {
     "name": "stdout",
     "output_type": "stream",
     "text": [
      "[    6     2     3     4     5     7     8     9  9875    75 76543     5\n",
      "     0     4]\n"
     ]
    }
   ],
   "source": [
    "# 合并\n",
    "Add = np.append(a, a1)\n",
    "print(Add)"
   ]
  },
  {
   "cell_type": "code",
   "execution_count": 718,
   "metadata": {},
   "outputs": [
    {
     "name": "stdout",
     "output_type": "stream",
     "text": [
      "[6 2]\n",
      "[3 4]\n",
      "[5 7]\n",
      "[8 9]\n"
     ]
    }
   ],
   "source": [
    "# 分割数组为多个子集\n",
    "Split = np.split(a, 4)\n",
    "for i in range(4):\n",
    "    print(Split[i])"
   ]
  },
  {
   "cell_type": "code",
   "execution_count": 719,
   "metadata": {},
   "outputs": [
    {
     "name": "stdout",
     "output_type": "stream",
     "text": [
      "(array([2], dtype=int64),)\n"
     ]
    }
   ],
   "source": [
    "# 搜索特定元素\n",
    "Sreach = np.where( a == 3)\n",
    "print(Sreach)"
   ]
  },
  {
   "cell_type": "code",
   "execution_count": 720,
   "metadata": {},
   "outputs": [
    {
     "name": "stdout",
     "output_type": "stream",
     "text": [
      "[    0     4     5    75  9875 76543]\n"
     ]
    }
   ],
   "source": [
    "# 数组排序\n",
    "Order = np.sort(a1)\n",
    "print(Order)"
   ]
  },
  {
   "cell_type": "code",
   "execution_count": 721,
   "metadata": {},
   "outputs": [
    {
     "name": "stdout",
     "output_type": "stream",
     "text": [
      "[   75  9875 76543]\n"
     ]
    }
   ],
   "source": [
    "# 13.过滤\n",
    "Filter = Order[Order > 5]\n",
    "print(Filter)"
   ]
  },
  {
   "cell_type": "code",
   "execution_count": 722,
   "metadata": {},
   "outputs": [],
   "source": [
    "# 数据类型"
   ]
  },
  {
   "cell_type": "code",
   "execution_count": 723,
   "metadata": {},
   "outputs": [
    {
     "name": "stdout",
     "output_type": "stream",
     "text": [
      "[ 1  2  8  9  6  5 87 23]\n"
     ]
    }
   ],
   "source": [
    "# 如何指定数据类型\n",
    "c = np.array([1, 2, 8, 9, 6, 5, 87, 23], dtype=int)\n",
    "print(c)"
   ]
  },
  {
   "cell_type": "code",
   "execution_count": 724,
   "metadata": {},
   "outputs": [
    {
     "name": "stdout",
     "output_type": "stream",
     "text": [
      "[ 1.  2.  8.  9.  6.  5. 87. 23.]\n"
     ]
    }
   ],
   "source": [
    "# 转换数组数据类型\n",
    "f = c.astype(float)\n",
    "print(f)"
   ]
  },
  {
   "cell_type": "code",
   "execution_count": 725,
   "metadata": {},
   "outputs": [
    {
     "name": "stdout",
     "output_type": "stream",
     "text": [
      "No!\n"
     ]
    }
   ],
   "source": [
    "# 比较两个数组数据类型是否相等\n",
    "if(c.dtype == f.dtype):\n",
    "    print(\"Type of c is same as Type of f!\")\n",
    "else:\n",
    "    print(\"No!\")"
   ]
  },
  {
   "cell_type": "code",
   "execution_count": 726,
   "metadata": {},
   "outputs": [],
   "source": [
    "# 数组形状"
   ]
  },
  {
   "cell_type": "code",
   "execution_count": 727,
   "metadata": {},
   "outputs": [
    {
     "name": "stdout",
     "output_type": "stream",
     "text": [
      "(2, 3)\n"
     ]
    }
   ],
   "source": [
    "# 获取数组形状\n",
    "Shape = np.shape(b)\n",
    "print(Shape)"
   ]
  },
  {
   "cell_type": "code",
   "execution_count": 728,
   "metadata": {},
   "outputs": [
    {
     "name": "stdout",
     "output_type": "stream",
     "text": [
      "[6 2 3 4 5 7 8 9]\n",
      "[[6 2 3 4 5 7 8 9]]\n"
     ]
    }
   ],
   "source": [
    "# 改变形状\n",
    "print(a)\n",
    "A_resh = np.reshape(a, (1, 8))\n",
    "print(A_resh)"
   ]
  },
  {
   "cell_type": "code",
   "execution_count": 729,
   "metadata": {},
   "outputs": [
    {
     "name": "stdout",
     "output_type": "stream",
     "text": [
      "2 3\n",
      "1 2 3 3 4 5 "
     ]
    }
   ],
   "source": [
    "# 如何迭代访问数组元素\n",
    "col, row = np.shape(b)\n",
    "print(col, row)\n",
    "for i in range(col):\n",
    "    for j in range(row):\n",
    "        print(b[i][j] ,end =\" \")"
   ]
  },
  {
   "cell_type": "code",
   "execution_count": 730,
   "metadata": {},
   "outputs": [],
   "source": [
    "# 数学运算"
   ]
  },
  {
   "cell_type": "code",
   "execution_count": 731,
   "metadata": {},
   "outputs": [
    {
     "name": "stdout",
     "output_type": "stream",
     "text": [
      "[ 7  4 11 13 11 12 95 32]\n",
      "[  5   0  -5  -5  -1   2 -79 -14]\n",
      "[  6   4  24  36  30  35 696 207]\n",
      "[6.         1.         0.375      0.44444444 0.83333333 1.4\n",
      " 0.09195402 0.39130435]\n"
     ]
    }
   ],
   "source": [
    "# 加减乘除\n",
    "AddArray = np.add(a, c)#形状一样的相加\n",
    "print(AddArray)\n",
    "SubArray = np.subtract(a, c)\n",
    "print(SubArray)\n",
    "MulArray = np.multiply(a, c)\n",
    "print(MulArray)\n",
    "DivArray = np.divide(a, c)\n",
    "print(DivArray)"
   ]
  },
  {
   "cell_type": "code",
   "execution_count": 732,
   "metadata": {},
   "outputs": [
    {
     "name": "stdout",
     "output_type": "stream",
     "text": [
      "[6. 1. 0. 0. 1. 1. 0. 0.]\n",
      "[1.79175947 0.69314718 1.09861229 1.38629436 1.60943791 1.94591015\n",
      " 2.07944154 2.19722458]\n"
     ]
    }
   ],
   "source": [
    "# 四舍五入\n",
    "Around = np.around(DivArray)\n",
    "print(Around)\n",
    "# 对数运算\n",
    "LogArray = np.log(a)\n",
    "print(LogArray)"
   ]
  },
  {
   "cell_type": "code",
   "execution_count": 733,
   "metadata": {},
   "outputs": [
    {
     "name": "stdout",
     "output_type": "stream",
     "text": [
      "44\n",
      "362880\n",
      "-44\n"
     ]
    }
   ],
   "source": [
    "# 数组的和 积 差\n",
    "Sum = np.sum(a)\n",
    "print(Sum)\n",
    "\n",
    "Prod = np.prod(a)\n",
    "print(Prod)\n",
    "\n",
    "aN = -a\n",
    "SumN = np.sum(aN)\n",
    "print(SumN)"
   ]
  },
  {
   "cell_type": "code",
   "execution_count": 734,
   "metadata": {},
   "outputs": [
    {
     "name": "stdout",
     "output_type": "stream",
     "text": [
      "[1 2 1 1 1 1 1 1]\n",
      "[  6   2  24  36  30  35 696 207]\n"
     ]
    }
   ],
   "source": [
    "# 最小公倍数 最大公约数\n",
    "Least = np.gcd(a, c)\n",
    "print(Least)\n",
    "Largest = np.lcm(a,c)\n",
    "print(Largest)"
   ]
  },
  {
   "cell_type": "code",
   "execution_count": 735,
   "metadata": {},
   "outputs": [
    {
     "name": "stdout",
     "output_type": "stream",
     "text": [
      "[-0.2794155   0.90929743  0.14112001 -0.7568025  -0.95892427  0.6569866\n",
      "  0.98935825  0.41211849]\n",
      "[ 0.96017029 -0.41614684 -0.9899925  -0.65364362  0.28366219  0.75390225\n",
      " -0.14550003 -0.91113026]\n",
      "[-0.29100619 -2.18503986 -0.14254654  1.15782128 -3.38051501  0.87144798\n",
      " -6.79971146 -0.45231566]\n",
      "[2.01713157e+02 3.62686041e+00 1.00178749e+01 2.72899172e+01\n",
      " 7.42032106e+01 5.48316123e+02 1.49047883e+03 4.05154190e+03]\n",
      "[2.01715636e+02 3.76219569e+00 1.00676620e+01 2.73082328e+01\n",
      " 7.42099485e+01 5.48317035e+02 1.49047916e+03 4.05154203e+03]\n",
      "[0.99998771 0.96402758 0.99505475 0.9993293  0.9999092  0.99999834\n",
      " 0.99999977 0.99999997]\n"
     ]
    }
   ],
   "source": [
    "# 三角 双曲\n",
    "SinArray = np.sin(a)\n",
    "CosArray = np.cos(a)\n",
    "TanArray = np.tan(a)\n",
    "SinhArray = np.sinh(a)\n",
    "CoshArray = np.cosh(a)\n",
    "TanhArray = np.tanh(a)\n",
    "print(SinArray)\n",
    "print(CosArray)\n",
    "print(TanArray)\n",
    "print(SinhArray)\n",
    "print(CoshArray)\n",
    "print(TanhArray)\n"
   ]
  },
  {
   "cell_type": "code",
   "execution_count": 736,
   "metadata": {},
   "outputs": [],
   "source": [
    "# 集合交并差补\n",
    "Intersect = np.intersect1d(a, c)\n",
    "Union = np.union1d(a, c)\n",
    "Diff = np.setdiff1d(a, c)\n",
    "Or = np.setxor1d(a, c)\n"
   ]
  },
  {
   "cell_type": "code",
   "execution_count": 737,
   "metadata": {},
   "outputs": [],
   "source": [
    "# 线代"
   ]
  },
  {
   "cell_type": "code",
   "execution_count": 738,
   "metadata": {},
   "outputs": [
    {
     "name": "stdout",
     "output_type": "stream",
     "text": [
      "[[ 30.7    38.9    43.622]\n",
      " [ 65.8    86.9    99.674]\n",
      " [100.9   134.9   155.726]]\n",
      "[[1 4 7]\n",
      " [2 5 8]\n",
      " [3 6 9]]\n",
      "[[-0.6594073   0.75654331 -0.2853434 ]\n",
      " [ 0.58049921 -1.87428877  1.05594093]\n",
      " [-0.03066377  1.18481394 -0.67204759]]\n",
      "0.0\n",
      "(array([ 1.61168440e+01, -1.11684397e+00, -9.75918483e-16]), array([[-0.23197069, -0.78583024,  0.40824829],\n",
      "       [-0.52532209, -0.08675134, -0.81649658],\n",
      "       [-0.8186735 ,  0.61232756,  0.40824829]]))\n"
     ]
    }
   ],
   "source": [
    "# 矩阵乘法 转置 逆 求行列式 特征值 特征向量\n",
    "Mat = np.array([[1, 2, 3],[4, 5, 6],[7, 8, 9]])\n",
    "\n",
    "Mat2 = np.array([[0.1, 2, 3.1],[4.2, 5.1, 6.23],[7.4, 8.9, 9.354]])\n",
    "print(np.dot(Mat, Mat2))\n",
    "print(Mat.T)\n",
    "print(np.linalg.inv(Mat2))\n",
    "\n",
    "print(np.linalg.det(Mat))\n",
    "# 特征值 特征向量\n",
    "print(np.linalg.eig(Mat))"
   ]
  },
  {
   "cell_type": "code",
   "execution_count": 739,
   "metadata": {},
   "outputs": [],
   "source": [
    "# 随机模块"
   ]
  },
  {
   "cell_type": "code",
   "execution_count": 740,
   "metadata": {},
   "outputs": [
    {
     "name": "stdout",
     "output_type": "stream",
     "text": [
      "425\n",
      "7.091475537578019\n",
      "[-0.19856296 -1.37149865 -1.12480871 -1.18373692 -0.74569594]\n",
      "[24 27 27 23 27]\n",
      "[10 15 15 11 12]\n"
     ]
    }
   ],
   "source": [
    "# 随机整数\n",
    "RanInt = np.random.randint(1000)\n",
    "print(RanInt)\n",
    "# 随机浮点\n",
    "RanFloat = np.random.uniform(0, 10)\n",
    "print(RanFloat)\n",
    "# 一定范围的整数\n",
    "RanRge = np.random.randint(1, 9999)\n",
    "# Normal\n",
    "N = np.random.normal(0, 1, size=5)\n",
    "print(N)\n",
    "# Bin\n",
    "Bin = np.random.binomial(50,0.5, size=5)\n",
    "print(Bin)\n",
    "# Poisson\n",
    "Poisson = np.random.poisson(10, size=5)\n",
    "print(Poisson)"
   ]
  }
 ],
 "metadata": {
  "kernelspec": {
   "display_name": "Python 3",
   "language": "python",
   "name": "python3"
  },
  "language_info": {
   "codemirror_mode": {
    "name": "ipython",
    "version": 3
   },
   "file_extension": ".py",
   "mimetype": "text/x-python",
   "name": "python",
   "nbconvert_exporter": "python",
   "pygments_lexer": "ipython3",
   "version": "3.8.6"
  },
  "orig_nbformat": 4
 },
 "nbformat": 4,
 "nbformat_minor": 2
}
