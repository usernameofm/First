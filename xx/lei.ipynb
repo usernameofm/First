{
 "cells": [
  {
   "cell_type": "code",
   "execution_count": 150,
   "metadata": {},
   "outputs": [
    {
     "name": "stdout",
     "output_type": "stream",
     "text": [
      "7.5 15 78.5\n"
     ]
    }
   ],
   "source": [
    "class Shape:\n",
    "    def Area_Triangle(self, High, Width):\n",
    "        return 0.5 * High * Width\n",
    "    \n",
    "    def Area_Rectantgle(self, Length, Width):\n",
    "        return Length * Width\n",
    "    \n",
    "    def Area_Cricle(self, Rad):\n",
    "        pi = 3.14\n",
    "        return pi * Rad**2\n",
    "    \n",
    "SShape = Shape()\n",
    "Cal_AreaT = SShape.Area_Triangle(3, 5)\n",
    "Cal_AreaR = SShape.Area_Rectantgle(3, 5)\n",
    "Cal_AreaC = SShape.Area_Cricle(5)\n",
    "\n",
    "print(Cal_AreaT, Cal_AreaR, Cal_AreaC)"
   ]
  },
  {
   "cell_type": "code",
   "execution_count": 151,
   "metadata": {},
   "outputs": [
    {
     "name": "stdout",
     "output_type": "stream",
     "text": [
      "52.800000000000004\n"
     ]
    }
   ],
   "source": [
    "class Fruit:\n",
    "    def __init__(self):\n",
    "        pass\n",
    "\n",
    "class Apple(Fruit):\n",
    "    def __init__(self, price):\n",
    "        super().__init__()\n",
    "        self.price = price\n",
    "\n",
    "    def apple_price(self, Num):\n",
    "        return Num * self.price\n",
    "\n",
    "FFruit = Apple(6)\n",
    "PPRice = FFruit.apple_price(8.8)\n",
    "\n",
    "print(PPRice)"
   ]
  },
  {
   "cell_type": "code",
   "execution_count": 152,
   "metadata": {},
   "outputs": [
    {
     "name": "stdout",
     "output_type": "stream",
     "text": [
      "Preson类有 name 和 age 两个属性\n",
      "Alice 18\n",
      "Hello, I am Alice, and I am 18 years old\n"
     ]
    }
   ],
   "source": [
    "# 21\n",
    "class Preson:\n",
    "    def __init__(self, Name, Age):\n",
    "        self.name = Name\n",
    "        self.age = Age\n",
    "\n",
    "    # 35\n",
    "    # def __str__(self):\n",
    "        # return \"%s is %d years old\" %(self.name, self.age)\n",
    "    \n",
    "    # 36\n",
    "    def __repr__(slef):\n",
    "        return \"Preson类有 name 和 age 两个属性\"\n",
    "    # 22\n",
    "    def introduce(self):\n",
    "        print(self.name, self.age)\n",
    "\n",
    "    # 23\n",
    "    def Say_Hello(self):\n",
    "        print(f\"Hello, I am {self.name}, and I am {self.age} years old\")\n",
    "\n",
    "    # 24 \n",
    "    def Get_age(self):\n",
    "        a = self.age\n",
    "        print(a)\n",
    "\n",
    "    # 25 \n",
    "    def Set_age(self, New_age):\n",
    "        self.age = New_age\n",
    "    \n",
    "    \n",
    "\n",
    "P1 = Preson(\"Alice\", 18)\n",
    "print(P1)\n",
    "P1.introduce()\n",
    "P1.Say_Hello()\n",
    "P1.Set_age(21)\n"
   ]
  },
  {
   "cell_type": "code",
   "execution_count": 153,
   "metadata": {},
   "outputs": [
    {
     "name": "stdout",
     "output_type": "stream",
     "text": [
      "Preson类有 name 和 age 和 score 三个属性\n",
      "Bob 19 90\n",
      "Hello, I am Bob, and I am 19 years old, and my score is 90\n"
     ]
    }
   ],
   "source": [
    "class Student(Preson):\n",
    "    # 26\n",
    "    def __init__(self, Name, Age, Score):\n",
    "        Preson.__init__(self, Name, Age)\n",
    "        self.score = Score\n",
    "    \n",
    "    # 35\n",
    "    # def __str__(self):\n",
    "        # return \"%s is %d years old, score:%d\" %(self.name, self.age, self.score)\n",
    "\n",
    "    #36\n",
    "    def __repr__(slef):\n",
    "        return \"Student类有 name 和 age 和 score 三个属性\"\n",
    "    \n",
    "    # 27\n",
    "    def introduce(self):\n",
    "        print(self.name, self.age, self.score) \n",
    "    \n",
    "    # 28\n",
    "    def Say_Hello(self):\n",
    "        print(f\"Hello, I am {self.name}, and I am {self.age} years old, and my score is {self.score}\")\n",
    "\n",
    "    # 29\n",
    "    def Get_score(self):\n",
    "        a = self.score\n",
    "        print(a)\n",
    "\n",
    "    # 30\n",
    "    def Set_score(self, New_score):\n",
    "        self.score = New_score\n",
    "        \n",
    "S1 = Student(\"Bob\", 19, 90)\n",
    "print(S1)\n",
    "S1.introduce()\n",
    "S1.Say_Hello()\n",
    "S1.Set_score(95)"
   ]
  },
  {
   "cell_type": "code",
   "execution_count": 154,
   "metadata": {},
   "outputs": [
    {
     "data": {
      "text/plain": [
       "['Get_age',\n",
       " 'Get_score',\n",
       " 'Say_Hello',\n",
       " 'Set_age',\n",
       " 'Set_score',\n",
       " '__class__',\n",
       " '__delattr__',\n",
       " '__dict__',\n",
       " '__dir__',\n",
       " '__doc__',\n",
       " '__eq__',\n",
       " '__format__',\n",
       " '__ge__',\n",
       " '__getattribute__',\n",
       " '__gt__',\n",
       " '__hash__',\n",
       " '__init__',\n",
       " '__init_subclass__',\n",
       " '__le__',\n",
       " '__lt__',\n",
       " '__module__',\n",
       " '__ne__',\n",
       " '__new__',\n",
       " '__reduce__',\n",
       " '__reduce_ex__',\n",
       " '__repr__',\n",
       " '__setattr__',\n",
       " '__sizeof__',\n",
       " '__str__',\n",
       " '__subclasshook__',\n",
       " '__weakref__',\n",
       " 'age',\n",
       " 'introduce',\n",
       " 'name',\n",
       " 'score']"
      ]
     },
     "execution_count": 154,
     "metadata": {},
     "output_type": "execute_result"
    }
   ],
   "source": [
    "# 31\n",
    "isinstance(P1, Preson)\n",
    "# 32\n",
    "isinstance(S1, Student)\n",
    "# 33\n",
    "type(P1)\n",
    "type(S1)\n",
    "# 34\n",
    "dir(P1)\n",
    "dir(S1)\n"
   ]
  }
 ],
 "metadata": {
  "kernelspec": {
   "display_name": "Python 3",
   "language": "python",
   "name": "python3"
  },
  "language_info": {
   "codemirror_mode": {
    "name": "ipython",
    "version": 3
   },
   "file_extension": ".py",
   "mimetype": "text/x-python",
   "name": "python",
   "nbconvert_exporter": "python",
   "pygments_lexer": "ipython3",
   "version": "3.8.6"
  },
  "orig_nbformat": 4
 },
 "nbformat": 4,
 "nbformat_minor": 2
}
